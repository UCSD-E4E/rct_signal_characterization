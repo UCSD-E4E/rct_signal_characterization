{
 "cells": [
  {
   "cell_type": "code",
   "execution_count": null,
   "metadata": {},
   "outputs": [],
   "source": [
    "from analysis_2019_08 import RCTRun\n",
    "from circular_buffer import CircularBuffer\n",
    "from precisionVisualizer import Ping, PingFactory\n",
    "import numpy as np\n",
    "import pyfftw\n",
    "import json\n",
    "import os\n",
    "import scipy as sp\n",
    "import struct\n",
    "import matplotlib.pyplot as plt; plt.ion()"
   ]
  },
  {
   "cell_type": "code",
   "execution_count": 2,
   "metadata": {},
   "outputs": [],
   "source": [
    "dataPath = '/media/ntlhui/FA56-CFCD/2019.08.09.Successful_Night_Tracking/RUN_000069/'\n",
    "run = RCTRun(dataPath)"
   ]
  },
  {
   "cell_type": "code",
   "execution_count": 3,
   "metadata": {},
   "outputs": [
    {
     "name": "stdout",
     "output_type": "stream",
     "text": [
      "[172642000]\n",
      "[387]\n",
      "FFT Frequency: 5859.375000 Hz\n",
      "Classifier Input Frequency: 1171.875000 Hz\n",
      "Ping Width: 42 samples\n",
      "Databuf Length: 84 samples\n",
      "Rejecting pings narrower than 27.000000 or wider than 54.000000\n",
      "Rejecting pings with amplitude 1.000000 less than noise\n",
      "FFT Frequency: 5859.375 Hz\n",
      "Integration length: 5 samples\n",
      "Classifier Frequency: 1171.875 Hz\n",
      "Ping width: 42 samples\n"
     ]
    }
   ],
   "source": [
    "dataFiles = sorted(run.getDataFiles())\n",
    "assert(len(dataFiles) > 0)\n",
    "assert(run.getCenterFreq() is not None)\n",
    "assert(len(run.getFreqs()) > 0)\n",
    "assert(run.getSamplingFreq() is not None)\n",
    "assert(run.getPingWidth() is not None)\n",
    "assert(run.getSamplingFreq() is not None)\n",
    "assert(run.getMinSNR() is not None)\n",
    "assert(run.getStartTime_ms() is not None)\n",
    "assert(run.getPingFactor()[0] is not None)\n",
    "assert(run.getPingFactor()[1] is not None)\n",
    "\n",
    "FFT_LEN = 2048\n",
    "\n",
    "fft_bins = ((np.array(run.getFreqs()) - run.getCenterFreq()) / (run.getSamplingFreq() / 2) * FFT_LEN).astype(np.int)\n",
    "print(run.getFreqs())\n",
    "print(fft_bins)\n",
    "\n",
    "# frequencyStep is the number of SDR samples between FFT windows\n",
    "frequencyStep = 256\n",
    "# fftFrequency is the sample frequency of FFTs in Hz\n",
    "fftFrequency = run.getSamplingFreq() / frequencyStep\n",
    "print(\"FFT Frequency: %f Hz\" % (fftFrequency))\n",
    "# integrateStep is the number of FFT samples between integration windows\n",
    "integrateStep = 5\n",
    "# integrateFactor is number of FFT samples to integrate\n",
    "integrateFactor = 5\n",
    "# integrateFactor = int(6e-3 * processable_runs[1].getSamplingFreq() / FFT_LEN * frequencyStepFactor)\n",
    "# classifierInputFrequency is the sample frequency of the input signal to the classifier stage\n",
    "classifierInputFreq = fftFrequency / integrateStep\n",
    "print(\"Classifier Input Frequency: %f Hz\" % (classifierInputFreq))\n",
    "# pingWidth_samp is the floor of the ping width in samples at the classifier sample frequency\n",
    "pingWidth_samp = int(run.getPingWidth() / 1000. * classifierInputFreq)\n",
    "print(\"Ping Width: %d samples\" % (pingWidth_samp))\n",
    "dataLen = pingWidth_samp * 2\n",
    "print(\"Databuf Length: %d samples\" % (dataLen))\n",
    "maximizerLen = int(0.1 * classifierInputFreq)\n",
    "medianLen = int(1 * classifierInputFreq)\n",
    "idLen = int(0.5 * classifierInputFreq)\n",
    "readLen = int(frequencyStep)\n",
    "\n",
    "integrateCounter = 0\n",
    "idIdx = 0\n",
    "sampIdx = 0\n",
    "integrator = CircularBuffer(integrateFactor)\n",
    "dataBuf = CircularBuffer(dataLen)\n",
    "peakHistory = CircularBuffer(maximizerLen)\n",
    "peaks = CircularBuffer(medianLen)\n",
    "idSignal = CircularBuffer(idLen)\n",
    "dataFile = open(dataFiles[0], 'rb')\n",
    "minSNRVec = np.ones(fft_bins.shape) * run.getMinSNR()\n",
    "fftBuffer = CircularBuffer(FFT_LEN)\n",
    "for i in range(FFT_LEN):\n",
    "    fftBuffer.add(np.array([0+0j]))\n",
    "pings = []\n",
    "outputSignal = []\n",
    "thresholdSignal = []\n",
    "integratorSignal = []\n",
    "\n",
    "pyfftw.config.NUM_THREADS = 7\n",
    "\n",
    "pyfftw.config.PLANNER_EFFORT = 'FFTW_MEASURE'\n",
    "fft_in = pyfftw.empty_aligned(FFT_LEN, dtype='complex64')\n",
    "fft_out = pyfftw.empty_aligned(FFT_LEN, dtype='complex64')\n",
    "\n",
    "fft_object = pyfftw.FFTW(fft_in, fft_out, threads=7)\n",
    "\n",
    "print(\"Rejecting pings narrower than %f or wider than %f\" % (run.getPingFactor()[0] * run.getPingWidth(), run.getPingFactor()[1] * run.getPingWidth()))\n",
    "print(\"Rejecting pings with amplitude %f less than noise\" % (run.getMinSNR()))\n",
    "\n",
    "print(\"FFT Frequency: %.3f Hz\" % (fftFrequency))\n",
    "print(\"Integration length: %d samples\" % (integrateFactor))\n",
    "print(\"Classifier Frequency: %.3f Hz\" % (classifierInputFreq))\n",
    "print(\"Ping width: %d samples\" % (pingWidth_samp))"
   ]
  },
  {
   "cell_type": "code",
   "execution_count": 4,
   "metadata": {},
   "outputs": [],
   "source": [
    "localizeFile = run.getLocalizeFile()[0]\n",
    "pFact = PingFactory()\n",
    "pings = []\n",
    "with open(localizeFile) as lFile:\n",
    "    for line in lFile:\n",
    "        pingCandidate = pFact.fromJSON(line)\n",
    "        if pingCandidate is not None:\n",
    "            pings.append(pingCandidate)"
   ]
  },
  {
   "cell_type": "code",
   "execution_count": 5,
   "metadata": {},
   "outputs": [],
   "source": [
    "dataFiles = sorted(run.getDataFiles())\n",
    "dataFileLengths = {f:os.path.getsize(f) for f in dataFiles}\n",
    "mode = sp.stats.mode(np.array(list(dataFileLengths.values())))\n",
    "assert(len(mode.mode) == 1)\n",
    "assert(mode.count[0] == len(dataFiles) - 1)\n",
    "dataFileLen = mode.mode[0]"
   ]
  },
  {
   "cell_type": "code",
   "execution_count": 6,
   "metadata": {},
   "outputs": [],
   "source": [
    "def timeStampToFile(t_ms):\n",
    "    origin = run.getStartTime_ms()\n",
    "    delta_ms = t_ms - origin\n",
    "    sampleFreq = run.getSamplingFreq()\n",
    "    delta_sample = delta_ms / 1000. * sampleFreq\n",
    "    return delta_sample / dataFileLen"
   ]
  },
  {
   "cell_type": "code",
   "execution_count": 16,
   "metadata": {},
   "outputs": [
    {
     "data": {
      "text/plain": [
       "[1, 2, 4, 5]"
      ]
     },
     "execution_count": 16,
     "metadata": {},
     "output_type": "execute_result"
    }
   ],
   "source": [
    "filesOfInterest = list(set([int(timeStampToFile(ping.time)) for ping in pings]))\n",
    "filesOfInterest"
   ]
  },
  {
   "cell_type": "code",
   "execution_count": 28,
   "metadata": {},
   "outputs": [
    {
     "ename": "KeyboardInterrupt",
     "evalue": "",
     "output_type": "error",
     "traceback": [
      "\u001b[0;31m---------------------------------------------------------------------------\u001b[0m",
      "\u001b[0;31mKeyboardInterrupt\u001b[0m                         Traceback (most recent call last)",
      "\u001b[0;32m<ipython-input-28-e5dd16fffb6a>\u001b[0m in \u001b[0;36m<module>\u001b[0;34m\u001b[0m\n\u001b[1;32m      8\u001b[0m         \u001b[0;34m[\u001b[0m\u001b[0mfftBuffer\u001b[0m\u001b[0;34m.\u001b[0m\u001b[0madd\u001b[0m\u001b[0;34m(\u001b[0m\u001b[0mnp\u001b[0m\u001b[0;34m.\u001b[0m\u001b[0marray\u001b[0m\u001b[0;34m(\u001b[0m\u001b[0;34m[\u001b[0m\u001b[0;34m(\u001b[0m\u001b[0mblock\u001b[0m\u001b[0;34m[\u001b[0m\u001b[0;36m2\u001b[0m \u001b[0;34m*\u001b[0m \u001b[0mi\u001b[0m\u001b[0;34m]\u001b[0m \u001b[0;34m+\u001b[0m \u001b[0mblock\u001b[0m\u001b[0;34m[\u001b[0m\u001b[0;36m2\u001b[0m \u001b[0;34m*\u001b[0m \u001b[0mi\u001b[0m \u001b[0;34m+\u001b[0m \u001b[0;36m1\u001b[0m\u001b[0;34m]\u001b[0m \u001b[0;34m*\u001b[0m \u001b[0;36m1j\u001b[0m\u001b[0;34m)\u001b[0m \u001b[0;34m/\u001b[0m \u001b[0mrun\u001b[0m\u001b[0;34m.\u001b[0m\u001b[0mgetDataScalar\u001b[0m\u001b[0;34m(\u001b[0m\u001b[0;34m)\u001b[0m\u001b[0;34m]\u001b[0m\u001b[0;34m)\u001b[0m\u001b[0;34m)\u001b[0m \u001b[0;32mfor\u001b[0m \u001b[0mi\u001b[0m \u001b[0;32min\u001b[0m \u001b[0mrange\u001b[0m\u001b[0;34m(\u001b[0m\u001b[0mint\u001b[0m\u001b[0;34m(\u001b[0m\u001b[0mreadLen\u001b[0m\u001b[0;34m)\u001b[0m\u001b[0;34m)\u001b[0m\u001b[0;34m]\u001b[0m \u001b[0;31m# This is pretty slow!!!\u001b[0m\u001b[0;34m\u001b[0m\u001b[0m\n\u001b[1;32m      9\u001b[0m         \u001b[0msampIdx\u001b[0m \u001b[0;34m+=\u001b[0m \u001b[0mFFT_LEN\u001b[0m\u001b[0;34m\u001b[0m\u001b[0m\n\u001b[0;32m---> 10\u001b[0;31m         \u001b[0ma\u001b[0m \u001b[0;34m=\u001b[0m \u001b[0mfftBuffer\u001b[0m\u001b[0;34m.\u001b[0m\u001b[0mto_array\u001b[0m\u001b[0;34m(\u001b[0m\u001b[0;34m)\u001b[0m\u001b[0;34m\u001b[0m\u001b[0m\n\u001b[0m\u001b[1;32m     11\u001b[0m         \u001b[0;32mfor\u001b[0m \u001b[0mi\u001b[0m \u001b[0;32min\u001b[0m \u001b[0mrange\u001b[0m\u001b[0;34m(\u001b[0m\u001b[0mFFT_LEN\u001b[0m\u001b[0;34m)\u001b[0m\u001b[0;34m:\u001b[0m\u001b[0;34m\u001b[0m\u001b[0m\n\u001b[1;32m     12\u001b[0m             \u001b[0mfft_in\u001b[0m\u001b[0;34m[\u001b[0m\u001b[0mi\u001b[0m\u001b[0;34m]\u001b[0m \u001b[0;34m=\u001b[0m \u001b[0ma\u001b[0m\u001b[0;34m[\u001b[0m\u001b[0mi\u001b[0m\u001b[0;34m]\u001b[0m\u001b[0;34m\u001b[0m\u001b[0m\n",
      "\u001b[0;32m~/workspace/rct_analysis/circular_buffer.py\u001b[0m in \u001b[0;36mto_array\u001b[0;34m(self)\u001b[0m\n\u001b[1;32m     76\u001b[0m                 \u001b[0mnewList\u001b[0m \u001b[0;34m=\u001b[0m \u001b[0;34m[\u001b[0m\u001b[0;34m]\u001b[0m\u001b[0;34m\u001b[0m\u001b[0m\n\u001b[1;32m     77\u001b[0m                 \u001b[0;32mfor\u001b[0m \u001b[0mi\u001b[0m \u001b[0;32min\u001b[0m \u001b[0mrange\u001b[0m\u001b[0;34m(\u001b[0m\u001b[0mlen\u001b[0m\u001b[0;34m(\u001b[0m\u001b[0mself\u001b[0m\u001b[0;34m)\u001b[0m\u001b[0;34m)\u001b[0m\u001b[0;34m:\u001b[0m\u001b[0;34m\u001b[0m\u001b[0m\n\u001b[0;32m---> 78\u001b[0;31m                         \u001b[0mnewList\u001b[0m\u001b[0;34m.\u001b[0m\u001b[0mappend\u001b[0m\u001b[0;34m(\u001b[0m\u001b[0mself\u001b[0m\u001b[0;34m[\u001b[0m\u001b[0mi\u001b[0m\u001b[0;34m]\u001b[0m\u001b[0;34m)\u001b[0m\u001b[0;34m\u001b[0m\u001b[0m\n\u001b[0m\u001b[1;32m     79\u001b[0m                 \u001b[0;32mreturn\u001b[0m \u001b[0mnp\u001b[0m\u001b[0;34m.\u001b[0m\u001b[0mblock\u001b[0m\u001b[0;34m(\u001b[0m\u001b[0mnewList\u001b[0m\u001b[0;34m)\u001b[0m\u001b[0;34m\u001b[0m\u001b[0m\n\u001b[1;32m     80\u001b[0m \u001b[0;34m\u001b[0m\u001b[0m\n",
      "\u001b[0;32m~/workspace/rct_analysis/circular_buffer.py\u001b[0m in \u001b[0;36m__getitem__\u001b[0;34m(self, k)\u001b[0m\n\u001b[1;32m     28\u001b[0m                 \u001b[0;32massert\u001b[0m\u001b[0;34m(\u001b[0m\u001b[0mk\u001b[0m \u001b[0;34m<\u001b[0m \u001b[0mmin\u001b[0m\u001b[0;34m(\u001b[0m\u001b[0mself\u001b[0m\u001b[0;34m.\u001b[0m\u001b[0m_numElements\u001b[0m\u001b[0;34m,\u001b[0m \u001b[0mlen\u001b[0m\u001b[0;34m(\u001b[0m\u001b[0mself\u001b[0m\u001b[0;34m.\u001b[0m\u001b[0m_elements\u001b[0m\u001b[0;34m)\u001b[0m\u001b[0;34m)\u001b[0m\u001b[0;34m)\u001b[0m\u001b[0;34m\u001b[0m\u001b[0m\n\u001b[1;32m     29\u001b[0m                 \u001b[0;32massert\u001b[0m\u001b[0;34m(\u001b[0m\u001b[0mk\u001b[0m \u001b[0;34m>=\u001b[0m \u001b[0;34m-\u001b[0m\u001b[0mmin\u001b[0m\u001b[0;34m(\u001b[0m\u001b[0mself\u001b[0m\u001b[0;34m.\u001b[0m\u001b[0m_numElements\u001b[0m\u001b[0;34m,\u001b[0m \u001b[0mlen\u001b[0m\u001b[0;34m(\u001b[0m\u001b[0mself\u001b[0m\u001b[0;34m.\u001b[0m\u001b[0m_elements\u001b[0m\u001b[0;34m)\u001b[0m\u001b[0;34m)\u001b[0m\u001b[0;34m)\u001b[0m\u001b[0;34m\u001b[0m\u001b[0m\n\u001b[0;32m---> 30\u001b[0;31m                 \u001b[0;32mif\u001b[0m \u001b[0mk\u001b[0m \u001b[0;34m>=\u001b[0m \u001b[0;36m0\u001b[0m\u001b[0;34m:\u001b[0m\u001b[0;34m\u001b[0m\u001b[0m\n\u001b[0m\u001b[1;32m     31\u001b[0m                         \u001b[0;32mreturn\u001b[0m \u001b[0mself\u001b[0m\u001b[0;34m.\u001b[0m\u001b[0m_elements\u001b[0m\u001b[0;34m[\u001b[0m\u001b[0;34m(\u001b[0m\u001b[0mself\u001b[0m\u001b[0;34m.\u001b[0m\u001b[0m_idx\u001b[0m \u001b[0;34m-\u001b[0m \u001b[0mlen\u001b[0m\u001b[0;34m(\u001b[0m\u001b[0mself\u001b[0m\u001b[0;34m)\u001b[0m \u001b[0;34m+\u001b[0m \u001b[0mk\u001b[0m\u001b[0;34m)\u001b[0m \u001b[0;34m%\u001b[0m \u001b[0mlen\u001b[0m\u001b[0;34m(\u001b[0m\u001b[0mself\u001b[0m\u001b[0;34m.\u001b[0m\u001b[0m_elements\u001b[0m\u001b[0;34m)\u001b[0m\u001b[0;34m]\u001b[0m\u001b[0;34m\u001b[0m\u001b[0m\n\u001b[1;32m     32\u001b[0m                 \u001b[0;32melse\u001b[0m\u001b[0;34m:\u001b[0m\u001b[0;34m\u001b[0m\u001b[0m\n",
      "\u001b[0;31mKeyboardInterrupt\u001b[0m: "
     ]
    }
   ],
   "source": [
    "outputFFT = []\n",
    "with open(dataFiles[filesOfInterest[0]], 'rb') as dataFile:\n",
    "    while True:\n",
    "        data = dataFile.read(readLen * run.getSampleWidth() * 2)\n",
    "        if len(data) < readLen * run.getSampleWidth() * 2:\n",
    "            break\n",
    "        block = struct.unpack(\"hh\" * int(readLen), data)\n",
    "        [fftBuffer.add(np.array([(block[2 * i] + block[2 * i + 1] * 1j) / run.getDataScalar()])) for i in range(int(readLen))] # This is pretty slow!!!\n",
    "        sampIdx += FFT_LEN\n",
    "        a = fftBuffer.to_array()\n",
    "        for i in range(FFT_LEN):\n",
    "            fft_in[i] = a[i]\n",
    "        complexFFT = fft_object() / FFT_LEN\n",
    "        outputFFT.append(complexFFT)"
   ]
  },
  {
   "cell_type": "code",
   "execution_count": null,
   "metadata": {},
   "outputs": [],
   "source": []
  }
 ],
 "metadata": {
  "kernelspec": {
   "display_name": "Python 3",
   "language": "python",
   "name": "python3"
  },
  "language_info": {
   "codemirror_mode": {
    "name": "ipython",
    "version": 3
   },
   "file_extension": ".py",
   "mimetype": "text/x-python",
   "name": "python",
   "nbconvert_exporter": "python",
   "pygments_lexer": "ipython3",
   "version": "3.5.2"
  }
 },
 "nbformat": 4,
 "nbformat_minor": 2
}
