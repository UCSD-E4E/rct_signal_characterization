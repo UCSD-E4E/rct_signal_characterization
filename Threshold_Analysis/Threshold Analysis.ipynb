{
 "cells": [
  {
   "cell_type": "code",
   "execution_count": 15,
   "metadata": {},
   "outputs": [
    {
     "name": "stdout",
     "output_type": "stream",
     "text": [
      "4\n",
      "18\n",
      "183\n"
     ]
    }
   ],
   "source": [
    "import glob\n",
    "import os\n",
    "import numpy as np\n",
    "import struct\n",
    "import matplotlib.pyplot as plt; plt.ion()\n",
    "import json\n",
    "import pandas as pd\n",
    "import matplotlib.patches as patches\n",
    "\n",
    "ping_width_ms=27\n",
    "ping_min_snr=14\n",
    "ping_max_len_mult=1.5\n",
    "ping_min_len_mult=0.5\n",
    "frequencies=173965000\n",
    "sampling_freq=1500000\n",
    "center_freq = 173500000\n",
    "FFT_LEN = 2048\n",
    "\n",
    "target_freqs = np.array([173965000])\n",
    "target_freqs = ((target_freqs - center_freq) / (sampling_freq / 2) * FFT_LEN /2).astype(np.int)\n",
    "\n",
    "numSamples = 64*1024*1024/4\n",
    "\n",
    "int_time_s = 6e-3\n",
    "int_factor = int(int_time_s * sampling_freq / FFT_LEN)\n",
    "clfr_input_freq = sampling_freq / int_factor / FFT_LEN\n",
    "maximizer_len = int(0.1 * clfr_input_freq)\n",
    "median_len = int(1 * clfr_input_freq)\n",
    "ping_width_samp = ping_width_ms / 1000. * sampling_freq / FFT_LEN / int_factor\n",
    "data_len = ping_width_samp * 2\n",
    "id_len = clfr_input_freq * 0.5\n",
    "_ms_per_sample = 1/(sampling_freq / int_factor / FFT_LEN) * 1e3\n",
    "print(int_factor)\n",
    "print(maximizer_len)\n",
    "print(median_len)"
   ]
  },
  {
   "cell_type": "code",
   "execution_count": 2,
   "metadata": {},
   "outputs": [],
   "source": [
    "files = sorted(glob.glob('**/RAW_DATA*', recursive=True))"
   ]
  },
  {
   "cell_type": "code",
   "execution_count": 16,
   "metadata": {},
   "outputs": [],
   "source": [
    "run_num = 481\n",
    "localizeFilePath = 'RUN_%06d/LOCALIZE_%06d' % (run_num, run_num)\n",
    "metaFilePath = 'RUN_%06d/META_%06d' % (run_num, run_num)\n",
    "pingNum = 10\n",
    "\n",
    "pings = []\n",
    "with open(localizeFilePath) as localizeFile:\n",
    "    for line in localizeFile:\n",
    "        packet = json.loads(line)\n",
    "        if 'ping' in packet:\n",
    "            pings.append(packet['ping'])\n",
    "start_time = 0;\n",
    "with open(metaFilePath) as metaFile:\n",
    "    for line in metaFile:\n",
    "        if 'start_time' in line.split(': '):\n",
    "            start_time = float(line.split(': ')[1].strip())\n",
    "\n",
    "df = pd.DataFrame(pings)\n",
    "df['lat'] /= 1e7\n",
    "df['lon'] /= 1e7\n",
    "df['time'] /= 1e3\n",
    "df['time'] -= start_time\n",
    "fileIdx = df.iloc[pingNum]['time'] * sampling_freq / numSamples\n",
    "fileNum = int(fileIdx)\n",
    "fileOffset = (fileIdx % 1) * numSamples / sampling_freq"
   ]
  },
  {
   "cell_type": "code",
   "execution_count": 17,
   "metadata": {},
   "outputs": [],
   "source": [
    "file = \"RUN_%06d/RAW_DATA_%06d_%06d\" % (run_num, run_num, fileNum)\n",
    "with open(file, 'rb') as datafile:\n",
    "    fileContent = datafile.read()\n",
    "fileSize = len(fileContent)\n",
    "\n",
    "rawsamples = [struct.unpack('hh', fileContent[4*i:4*i+4]) for i in range(int(numSamples))]\n",
    "samples = np.array([sample[0] + sample[1] * 1j for sample in rawsamples]) / np.iinfo(np.int16).max\n",
    "fileTime = numSamples / sampling_freq"
   ]
  },
  {
   "cell_type": "code",
   "execution_count": 18,
   "metadata": {},
   "outputs": [],
   "source": [
    "fft_in = np.reshape(samples, (2048, int(numSamples / 2048)))\n",
    "fft_out = np.fft.fft(fft_in, axis=0)"
   ]
  },
  {
   "cell_type": "code",
   "execution_count": 19,
   "metadata": {},
   "outputs": [],
   "source": [
    "shp = fft_out.shape\n",
    "shp = shp[0], int(shp[1] / int_factor)\n",
    "integrated_data = np.zeros(shp)\n",
    "power_data = np.power(np.abs(fft_out), 2)\n",
    "for i in range(shp[1]):\n",
    "    integrated_data[:,i] = np.sum(power_data[:,int_factor * i:int_factor * (i + 1)])"
   ]
  },
  {
   "cell_type": "code",
   "execution_count": 20,
   "metadata": {},
   "outputs": [],
   "source": [
    "targetData = integrated_data[target_freqs[0],:]\n",
    "peak_history = np.zeros(len(targetData) - maximizer_len)\n",
    "for i in range(len(peak_history)):\n",
    "    peak_history[i] = np.max(targetData[i:i+maximizer_len])\n",
    "threshold = np.zeros(len(peak_history) - median_len)\n",
    "for i in range(len(threshold)):\n",
    "    threshold[i] = np.median(peak_history[i:i+median_len])\n",
    "threshold = threshold + ping_min_snr"
   ]
  },
  {
   "cell_type": "code",
   "execution_count": 23,
   "metadata": {},
   "outputs": [
    {
     "name": "stdout",
     "output_type": "stream",
     "text": [
      "alt     0.000000e+00\n",
      "amp     2.809500e+02\n",
      "lat     3.288459e+01\n",
      "lon    -1.172337e+02\n",
      "time    5.779100e+01\n",
      "txf     1.735000e+08\n",
      "Name: 10, dtype: float64\n"
     ]
    },
    {
     "data": {
      "image/png": "[encoded data removed]",
      "text/plain": [
       "<Figure size 432x288 with 1 Axes>"
      ]
     },
     "metadata": {
      "needs_background": "light"
     },
     "output_type": "display_data"
    }
   ],
   "source": [
    "fig1, ax = plt.subplots(1)\n",
    "plt.plot(np.arange(0, fileTime, fileTime / len(integrated_data[target_freqs[0],:])), 10*np.log10(integrated_data[target_freqs[0],:]))\n",
    "plt.plot(np.arange(0, fileTime, fileTime / len(threshold)), 10*np.log10(threshold))\n",
    "rect = patches.Rectangle((fileOffset-0.5, 10*np.log10(np.max(integrated_data[target_freqs[0],:]))), 1, -.25, linewidth=1,edgecolor='r',facecolor='none')\n",
    "ax.add_patch(rect)\n",
    "plt.savefig('test.png')\n",
    "print(df.iloc[pingNum])"
   ]
  },
  {
   "cell_type": "code",
   "execution_count": 22,
   "metadata": {},
   "outputs": [
    {
     "data": {
      "text/plain": [
       "1.866946794459025"
      ]
     },
     "execution_count": 22,
     "metadata": {},
     "output_type": "execute_result"
    }
   ],
   "source": [
    "fileOffset"
   ]
  },
  {
   "cell_type": "code",
   "execution_count": 10,
   "metadata": {},
   "outputs": [
    {
     "data": {
      "text/plain": [
       "(2048,)"
      ]
     },
     "execution_count": 10,
     "metadata": {},
     "output_type": "execute_result"
    }
   ],
   "source": [
    "targetData.shape"
   ]
  },
  {
   "cell_type": "code",
   "execution_count": 11,
   "metadata": {},
   "outputs": [
    {
     "data": {
      "text/plain": [
       "array([0.00000000e+00, 5.46133333e-03, 1.09226667e-02, ...,\n",
       "       1.11684267e+01, 1.11738880e+01, 1.11793493e+01])"
      ]
     },
     "execution_count": 11,
     "metadata": {},
     "output_type": "execute_result"
    }
   ],
   "source": [
    "np.arange(0, fileTime, fileTime / len(integrated_data))"
   ]
  },
  {
   "cell_type": "code",
   "execution_count": 12,
   "metadata": {},
   "outputs": [
    {
     "data": {
      "text/plain": [
       "2048"
      ]
     },
     "execution_count": 12,
     "metadata": {},
     "output_type": "execute_result"
    }
   ],
   "source": [
    "len(integrated_data)"
   ]
  },
  {
   "cell_type": "code",
   "execution_count": 13,
   "metadata": {},
   "outputs": [
    {
     "data": {
      "text/plain": [
       "481"
      ]
     },
     "execution_count": 13,
     "metadata": {},
     "output_type": "execute_result"
    }
   ],
   "source": [
    "run_num"
   ]
  },
  {
   "cell_type": "code",
   "execution_count": null,
   "metadata": {},
   "outputs": [],
   "source": []
  }
 ],
 "metadata": {
  "kernelspec": {
   "display_name": "Python 3",
   "language": "python",
   "name": "python3"
  },
  "language_info": {
   "codemirror_mode": {
    "name": "ipython",
    "version": 3
   },
   "file_extension": ".py",
   "mimetype": "text/x-python",
   "name": "python",
   "nbconvert_exporter": "python",
   "pygments_lexer": "ipython3",
   "version": "3.5.2"
  }
 },
 "nbformat": 4,
 "nbformat_minor": 2
}
